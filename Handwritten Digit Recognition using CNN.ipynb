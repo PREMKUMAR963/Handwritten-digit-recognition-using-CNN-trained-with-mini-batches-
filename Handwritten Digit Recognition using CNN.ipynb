{
 "cells": [
  {
   "cell_type": "markdown",
   "id": "e7d9b8c1",
   "metadata": {},
   "source": [
    "## import the libraries :"
   ]
  },
  {
   "cell_type": "code",
   "execution_count": 4,
   "id": "b8cba407",
   "metadata": {},
   "outputs": [
    {
     "name": "stdout",
     "output_type": "stream",
     "text": [
      "(60000, 28, 28) (60000,)\n",
      "(10000, 28, 28) (10000,)\n"
     ]
    }
   ],
   "source": [
    "from tensorflow import keras \n",
    "from tensorflow.keras.datasets import mnist\n",
    "from tensorflow.keras.models import Sequential\n",
    "from tensorflow.keras.layers import Dense, Dropout, Flatten\n",
    "from tensorflow.keras.layers import  Conv2D, MaxPooling2D\n",
    "\n",
    "\n",
    "# spliting of data into training and testing :\n",
    " \n",
    "    \n",
    "(x_train, y_train),(x_test, y_test) = mnist.load_data()\n",
    "print(x_train.shape, y_train.shape)\n",
    "print(x_test.shape, y_test.shape)"
   ]
  },
  {
   "cell_type": "code",
   "execution_count": 19,
   "id": "d3a7b46b",
   "metadata": {},
   "outputs": [],
   "source": [
    "import tensorflow as tf"
   ]
  },
  {
   "cell_type": "markdown",
   "id": "21ee3fbd",
   "metadata": {},
   "source": [
    "# Data Preprocessing :"
   ]
  },
  {
   "cell_type": "code",
   "execution_count": 8,
   "id": "48584ddc",
   "metadata": {},
   "outputs": [
    {
     "name": "stdout",
     "output_type": "stream",
     "text": [
      "(60000, 28, 28, 1)\n",
      "60000\n",
      "10000\n"
     ]
    }
   ],
   "source": [
    "num_classes = 10\n",
    "x_train = x_train.reshape(x_train.shape[0], 28, 28, 1)\n",
    "x_test = x_test.reshape(x_test.shape[0], 28, 28, 1)\n",
    "input_shape = (28,28,1)\n",
    "\n",
    "# convert class vector to binary class matrices\n",
    "\n",
    "y_train = tf.keras.utils.to_categorical(y_train, num_classes)\n",
    "y_test = tf.keras.utils.to_categorical(y_test, num_classes)\n",
    "x_train = x_train.astype('float32')\n",
    "x_test = x_test.astype('float32')\n",
    "x_train = x_train/255\n",
    "x_test = x_test/255\n",
    "print(x_train.shape)\n",
    "print(x_train.shape[0])\n",
    "print(x_test.shape[0])"
   ]
  },
  {
   "cell_type": "markdown",
   "id": "27cd0459",
   "metadata": {},
   "source": [
    "# Model Creation :"
   ]
  },
  {
   "cell_type": "code",
   "execution_count": 22,
   "id": "19b9c661",
   "metadata": {},
   "outputs": [],
   "source": [
    "batch_size = 128\n",
    "num_classes = 10\n",
    "epochs = 10\n",
    "model = Sequential()\n",
    "model.add(Conv2D(32, kernel_size=(3, 3),activation='relu',input_shape=input_shape))\n",
    "model.add(Conv2D(64, (3,3), activation = 'relu'))\n",
    "model.add(MaxPooling2D(pool_size=(2,2)))\n",
    "model.add(Dropout(0.25))\n",
    "model.add(Flatten())\n",
    "model.add(Dense(256, activation='relu'))\n",
    "model.add(Dropout(0.5))\n",
    "model.add(Dense(num_classes, activation='softmax'))\n",
    "model.compile(loss=tf.keras.losses.categorical_crossentropy,optimizer=tf.keras.optimizers.Adadelta(),metrics =['accuracy'])\n"
   ]
  },
  {
   "cell_type": "markdown",
   "id": "ccea21ba",
   "metadata": {},
   "source": [
    "# Training the model :"
   ]
  },
  {
   "cell_type": "code",
   "execution_count": 14,
   "id": "24cef27b",
   "metadata": {},
   "outputs": [
    {
     "name": "stdout",
     "output_type": "stream",
     "text": [
      "Epoch 1/5\n",
      "469/469 [==============================] - 194s 413ms/step - loss: 2.0457 - accuracy: 0.4979 - val_loss: 1.9436 - val_accuracy: 0.6954\n",
      "Epoch 2/5\n",
      "469/469 [==============================] - 196s 417ms/step - loss: 1.8993 - accuracy: 0.5582 - val_loss: 1.7576 - val_accuracy: 0.7276\n",
      "Epoch 3/5\n",
      "469/469 [==============================] - 193s 412ms/step - loss: 1.7153 - accuracy: 0.6037 - val_loss: 1.5290 - val_accuracy: 0.7553\n",
      "Epoch 4/5\n",
      "469/469 [==============================] - 193s 412ms/step - loss: 1.5028 - accuracy: 0.6414 - val_loss: 1.2849 - val_accuracy: 0.7808\n",
      "Epoch 5/5\n",
      "469/469 [==============================] - 195s 417ms/step - loss: 1.3031 - accuracy: 0.6696 - val_loss: 1.0686 - val_accuracy: 0.8027\n",
      "The model has successfully trained\n",
      "Saving the model as minist.h5\n"
     ]
    }
   ],
   "source": [
    "hist = model.fit(x_train,y_train,batch_size=batch_size,epochs=5,verbose=1,validation_data=(x_test,y_test))\n",
    "print(\"The model has successfully trained\")\n",
    "model.save(\"minist.h5\")\n",
    "print(\"Saving the model as minist.h5\")"
   ]
  },
  {
   "cell_type": "code",
   "execution_count": 16,
   "id": "8015a337",
   "metadata": {},
   "outputs": [
    {
     "name": "stdout",
     "output_type": "stream",
     "text": [
      "Test loss: 1.0686463117599487\n",
      "Test accuracy:  0.8026999831199646\n"
     ]
    }
   ],
   "source": [
    "score = model.evaluate(x_test,y_test,verbose=0)\n",
    "print('Test loss:', score[0])\n",
    "print('Test accuracy: ', score[1])"
   ]
  },
  {
   "cell_type": "markdown",
   "id": "28c843ec",
   "metadata": {},
   "source": [
    "# Gui Creation :"
   ]
  },
  {
   "cell_type": "code",
   "execution_count": 24,
   "id": "d5f25e51",
   "metadata": {},
   "outputs": [],
   "source": [
    "from tensorflow.keras.models import load_model\n",
    "from tkinter import *\n",
    "import tkinter as tk\n",
    "import win32gui\n",
    "from PIL import ImageGrab, Image\n",
    "import numpy as np\n"
   ]
  },
  {
   "cell_type": "code",
   "execution_count": 34,
   "id": "d46bb34a",
   "metadata": {},
   "outputs": [],
   "source": [
    "model = load_model('minist.h5')\n",
    "def predict_digit(img):\n",
    "    #resize of image to 28*28 pixels\n",
    "    img= img.resize((28,28))\n",
    "    img= img.convert('L')\n",
    "    img=np.array(img)\n",
    "    #reshaping to support our model input and normalizing\n",
    "    img = img.reshape(1,28,28,1)\n",
    "    img = img/255.0\n",
    "    #predicting the class\n",
    "    res = model.predict([img])[0]\n",
    "    return np.argmax(res), max(res)\n",
    "class App(tk.Tk):\n",
    "    def __init__(self):\n",
    "        tk.Tk.__init__(self)\n",
    "        self.x=self.y=0\n",
    "        #creating the elements\n",
    "        self.canvas = tk.Canvas(self, width=300,height=300,bg=\"white\",cursor=\"cross\")\n",
    "        self.label = tk.Label(self, text = \" Trying to Understand !\",font=(\"Helvetica\",12))\n",
    "        self.classify_button = tk.Button(self, text = 'Recognise', command = self.classify_handwriting)\n",
    "        self.button_clear = tk.Button(self, text = \"CLEAR\", command = self.clear_all)\n",
    "        #Grid structures\n",
    "        self.canvas.grid(row=0,column=0,pady=2,sticky=W,)\n",
    "        self.label.grid(row=0,column=1,pady=2,padx=2)\n",
    "        self.classify_button.grid(row=1,column=1,pady=2,padx=2)\n",
    "        self.button_clear.grid(row=1,column=0,pady=2)\n",
    "        self.canvas.bind(\"<B1-Motion>\", self.draw_lines)\n",
    "    def clear_all(self):\n",
    "        self.canvas.delete(\"all\")\n",
    "    def classify_handwriting(self):\n",
    "        HWND = self.canvas.winfo_id()\n",
    "        rect= win32gui.GetWindowRect(HWND)\n",
    "        im = ImageGrab.grab(rect)\n",
    "        digit, acc = predict_digit(im)\n",
    "        self.label.configure(text = str(digit) + ', '+str(int(acc*100))+\"%\")\n",
    "    def draw_lines(self, event):\n",
    "        self.x=event.x\n",
    "        self.y=event.y\n",
    "        r=8\n",
    "        self.canvas.create_oval(self.x-r, self.y-r, self.x + r, self.y + r,fill='black')\n",
    "app = App()\n",
    "mainloop()"
   ]
  },
  {
   "cell_type": "code",
   "execution_count": null,
   "id": "bd9ba3a3",
   "metadata": {},
   "outputs": [],
   "source": []
  },
  {
   "cell_type": "code",
   "execution_count": null,
   "id": "cff1ee49",
   "metadata": {},
   "outputs": [],
   "source": []
  }
 ],
 "metadata": {
  "kernelspec": {
   "display_name": "Python 3",
   "language": "python",
   "name": "python3"
  },
  "language_info": {
   "codemirror_mode": {
    "name": "ipython",
    "version": 3
   },
   "file_extension": ".py",
   "mimetype": "text/x-python",
   "name": "python",
   "nbconvert_exporter": "python",
   "pygments_lexer": "ipython3",
   "version": "3.8.8"
  }
 },
 "nbformat": 4,
 "nbformat_minor": 5
}
